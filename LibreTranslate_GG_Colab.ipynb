{
  "cells": [
    {
      "cell_type": "markdown",
      "metadata": {
        "colab_type": "text",
        "id": "view-in-github"
      },
      "source": [
        "<a href=\"https://colab.research.google.com/github/BlueSky2311/Translation_Scripts/blob/main/LibreTranslate_GG_Colab.ipynb\" target=\"_parent\"><img src=\"https://colab.research.google.com/assets/colab-badge.svg\" alt=\"Open In Colab\"/></a>"
      ]
    },
    {
      "cell_type": "code",
      "execution_count": null,
      "metadata": {
        "colab": {
          "base_uri": "https://localhost:8080/"
        },
        "collapsed": true,
        "id": "viyQLjH8XEEF",
        "outputId": "66664015-6c69-4300-b2a9-e84c21017c5d"
      },
      "outputs": [],
      "source": [
        "%%shell\n",
        "pip install udocker\n",
        "udocker --allow-root install"
      ]
    },
    {
      "cell_type": "code",
      "execution_count": null,
      "metadata": {
        "colab": {
          "base_uri": "https://localhost:8080/"
        },
        "collapsed": true,
        "id": "oJY3cWokbnY4",
        "outputId": "1037f202-0dd4-4ba8-e4f4-1de3b065551b"
      },
      "outputs": [],
      "source": [
        "%%shell\n",
        "udocker --allow-root pull libretranslate/libretranslate # ensure the image is up to date\n",
        "udocker --allow-root rm -f libretranslate # force remove the container if it exists\n",
        "udocker --allow-root create --name=libretranslate libretranslate/libretranslate # create the container without verbose output"
      ]
    },
    {
      "cell_type": "code",
      "execution_count": null,
      "metadata": {
        "colab": {
          "base_uri": "https://localhost:8080/",
          "height": 1000
        },
        "collapsed": true,
        "id": "CBQkUHEucvp4",
        "outputId": "a422a793-c44b-4e4d-fabc-944f76355434"
      },
      "outputs": [],
      "source": [
        "## After \"Running on http://*:5000\" appeared, you can interupt this cell mannually and run next cells\n",
        "%%shell\n",
        "udocker --allow-root run --publish=5000:5000 libretranslate &"
      ]
    },
    {
      "cell_type": "code",
      "execution_count": 4,
      "metadata": {
        "colab": {
          "base_uri": "https://localhost:8080/"
        },
        "id": "tXQ0UFiCkKko",
        "outputId": "e988f650-32bb-47d3-92c0-e87d6c0a1c8f"
      },
      "outputs": [
        {
          "name": "stdout",
          "output_type": "stream",
          "text": [
            "LibreTranslate service is running!\n"
          ]
        }
      ],
      "source": [
        "import requests\n",
        "\n",
        "try:\n",
        "    response = requests.get(\"http://localhost:5000/\")\n",
        "    if response.status_code == 200:\n",
        "        print(\"LibreTranslate service is running!\")\n",
        "    else:\n",
        "        print(\"LibreTranslate service is not running!\")\n",
        "except requests.ConnectionError:\n",
        "    print(\"Failed to connect to LibreTranslate service.\")"
      ]
    },
    {
      "cell_type": "code",
      "execution_count": null,
      "metadata": {
        "colab": {
          "base_uri": "https://localhost:8080/"
        },
        "collapsed": true,
        "id": "NR9oGEbMnD8p",
        "outputId": "dfdac520-744c-4220-a527-77796cf9b48f"
      },
      "outputs": [],
      "source": [
        "import requests\n",
        "\n",
        "# Get the list of supported languages\n",
        "response = requests.get(\"http://localhost:5000/languages\")\n",
        "print(\"Supported languages:\", response.json())"
      ]
    },
    {
      "cell_type": "code",
      "execution_count": null,
      "metadata": {
        "colab": {
          "base_uri": "https://localhost:8080/"
        },
        "collapsed": true,
        "id": "n21nYSGTfpoA",
        "outputId": "17a22dee-8540-4889-8fae-673015f7f41c"
      },
      "outputs": [],
      "source": [
        "import requests\n",
        "\n",
        "def translate_text(text, source_lang=\"zh\", target_lang=\"en\"):\n",
        "    url = \"http://localhost:5000/translate\"\n",
        "    payload = {\n",
        "        'q': text,\n",
        "        'source': source_lang,\n",
        "        'target': target_lang,\n",
        "        'format': 'text'\n",
        "    }\n",
        "    headers = {\n",
        "        'Content-Type': 'application/x-www-form-urlencoded'\n",
        "    }\n",
        "    response = requests.post(url, data=payload, headers=headers)\n",
        "\n",
        "    # Print the full JSON response to understand the structure\n",
        "    print(\"Full response:\", response.json())\n",
        "\n",
        "    # Safely extract the translated text\n",
        "    return response.json().get('translatedText', \"Error: 'translatedText' key not found\")\n",
        "\n",
        "# Example usage\n",
        "chinese_text = \"你好，世界\"\n",
        "translated_text = translate_text(chinese_text)\n",
        "print(f\"Original: {chinese_text}\\nTranslated: {translated_text}\")"
      ]
    }
  ],
  "metadata": {
    "colab": {
      "authorship_tag": "ABX9TyO1WNm/3as+oDTM7g7NgBwB",
      "include_colab_link": true,
      "provenance": []
    },
    "kernelspec": {
      "display_name": "Python 3",
      "name": "python3"
    },
    "language_info": {
      "name": "python"
    }
  },
  "nbformat": 4,
  "nbformat_minor": 0
}
