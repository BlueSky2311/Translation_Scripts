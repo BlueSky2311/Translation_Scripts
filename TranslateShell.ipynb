{
  "nbformat": 4,
  "nbformat_minor": 0,
  "metadata": {
    "colab": {
      "provenance": [],
      "mount_file_id": "1Jb6Nh-Jj_9soJFtTzzBOKUooHX7wXOj3",
      "authorship_tag": "ABX9TyPq8d/0IGkgMMxqMIMz/xr/",
      "include_colab_link": true
    },
    "kernelspec": {
      "name": "python3",
      "display_name": "Python 3"
    },
    "language_info": {
      "name": "python"
    }
  },
  "cells": [
    {
      "cell_type": "markdown",
      "metadata": {
        "id": "view-in-github",
        "colab_type": "text"
      },
      "source": [
        "<a href=\"https://colab.research.google.com/github/BlueSky2311/Translation_Scripts/blob/main/TranslateShell.ipynb\" target=\"_parent\"><img src=\"https://colab.research.google.com/assets/colab-badge.svg\" alt=\"Open In Colab\"/></a>"
      ]
    },
    {
      "cell_type": "code",
      "execution_count": null,
      "metadata": {
        "collapsed": true,
        "id": "ZLgqIzem3OWU"
      },
      "outputs": [],
      "source": [
        "!sudo apt-get install translate-shell"
      ]
    },
    {
      "cell_type": "code",
      "source": [
        "!head -n 5 /content/drive/MyDrive/trans/cns/dialogs/chinese_text_dialogs.csv"
      ],
      "metadata": {
        "collapsed": true,
        "id": "CFuxSIkZ4h1d"
      },
      "execution_count": null,
      "outputs": []
    },
    {
      "cell_type": "code",
      "source": [
        "!trans -b -e google zh:vi \"我 想 把 这 个 任 命 先 放 一 放 ， 等 我 听 取 了 其 他 人 的 意 见 之 后 ， 再 作 决 定 。\""
      ],
      "metadata": {
        "id": "_cEa-qXt4k1U"
      },
      "execution_count": null,
      "outputs": []
    },
    {
      "cell_type": "code",
      "source": [
        "!trans -b -e google zh:vi -i /content/drive/MyDrive/trans/cns/dialogs/chinese_text_dialogs.csv -o /content/drive/MyDrive/trans/cns/dialogs/dialogs_translated.csv"
      ],
      "metadata": {
        "collapsed": true,
        "id": "86QenD-x3gtl"
      },
      "execution_count": null,
      "outputs": []
    },
    {
      "cell_type": "code",
      "source": [
        "!head -n 10 /content/drive/MyDrive/trans/cns/dialogs/dialogs_translated.csv"
      ],
      "metadata": {
        "id": "ona5o0-D4yjl"
      },
      "execution_count": null,
      "outputs": []
    }
  ]
}